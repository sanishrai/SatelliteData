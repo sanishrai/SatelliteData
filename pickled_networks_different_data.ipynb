{
 "metadata": {
  "language_info": {
   "codemirror_mode": {
    "name": "ipython",
    "version": 3
   },
   "file_extension": ".py",
   "mimetype": "text/x-python",
   "name": "python",
   "nbconvert_exporter": "python",
   "pygments_lexer": "ipython3",
   "version": "3.8.8-final"
  },
  "orig_nbformat": 2,
  "kernelspec": {
   "name": "python3",
   "display_name": "Python 3.8.8 64-bit",
   "metadata": {
    "interpreter": {
     "hash": "2c8ae7b7397383be484f509670a744b7a75aaa69a8c48f2fc2b876db86f77bea"
    }
   }
  }
 },
 "nbformat": 4,
 "nbformat_minor": 2,
 "cells": [
  {
   "cell_type": "code",
   "execution_count": 1,
   "metadata": {},
   "outputs": [],
   "source": [
    "# Using this copletely different data set \n",
    "# https://www.kaggle.com/colearninglounge/predicting-pulsar-starintermediate\n",
    "# use the neural networks trained with different dataset to predict this different dataset\n",
    "\n",
    "import pandas as pd\n",
    "data_frame = pd.read_csv('pulsar_dataset_2.csv')\n",
    "data_frame.dropna(inplace=True)\n",
    "data_frame.to_csv('cleaned_up_data_2.csv', index=False)"
   ]
  },
  {
   "cell_type": "code",
   "execution_count": 12,
   "metadata": {},
   "outputs": [],
   "source": [
    "# get the pickled datasets \n",
    "import pickle\n",
    "with open('gridsearch1.pkl', 'rb') as f1:\n",
    "    gridsearch1 = pickle.load(f1)\n",
    "with open('gridsearch2.pkl', 'rb') as f2:\n",
    "    gridsearch2 = pickle.load(f2)\n",
    "with open('worst_model.pkl', 'rb') as f3:\n",
    "    worst_model = pickle.load(f3)"
   ]
  },
  {
   "cell_type": "code",
   "execution_count": 6,
   "metadata": {},
   "outputs": [
    {
     "output_type": "execute_result",
     "data": {
      "text/plain": [
       "    Mean of the integrated profile  \\\n",
       "0                       121.156250   \n",
       "1                        76.968750   \n",
       "2                       130.585938   \n",
       "4                        84.804688   \n",
       "7                       109.406250   \n",
       "\n",
       "    Standard deviation of the integrated profile  \\\n",
       "0                                      48.372971   \n",
       "1                                      36.175557   \n",
       "2                                      53.229534   \n",
       "4                                      36.117659   \n",
       "7                                      55.912521   \n",
       "\n",
       "    Excess kurtosis of the integrated profile  \\\n",
       "0                                    0.375485   \n",
       "1                                    0.712898   \n",
       "2                                    0.133408   \n",
       "4                                    0.825013   \n",
       "7                                    0.565106   \n",
       "\n",
       "    Skewness of the integrated profile   Mean of the DM-SNR curve  \\\n",
       "0                            -0.013165                   3.168896   \n",
       "1                             3.388719                   2.399666   \n",
       "2                            -0.297242                   2.743311   \n",
       "4                             3.274125                   2.790134   \n",
       "7                             0.056247                   2.797659   \n",
       "\n",
       "    Standard deviation of the DM-SNR curve  \\\n",
       "0                                18.399367   \n",
       "1                                17.570997   \n",
       "2                                22.362553   \n",
       "4                                20.618009   \n",
       "7                                19.496527   \n",
       "\n",
       "    Excess kurtosis of the DM-SNR curve   Skewness of the DM-SNR curve  \n",
       "0                              7.449874                      65.159298  \n",
       "1                              9.414652                     102.722975  \n",
       "2                              8.508364                      74.031324  \n",
       "4                              8.405008                      76.291128  \n",
       "7                              9.443282                      97.374578  "
      ],
      "text/html": "<div>\n<style scoped>\n    .dataframe tbody tr th:only-of-type {\n        vertical-align: middle;\n    }\n\n    .dataframe tbody tr th {\n        vertical-align: top;\n    }\n\n    .dataframe thead th {\n        text-align: right;\n    }\n</style>\n<table border=\"1\" class=\"dataframe\">\n  <thead>\n    <tr style=\"text-align: right;\">\n      <th></th>\n      <th>Mean of the integrated profile</th>\n      <th>Standard deviation of the integrated profile</th>\n      <th>Excess kurtosis of the integrated profile</th>\n      <th>Skewness of the integrated profile</th>\n      <th>Mean of the DM-SNR curve</th>\n      <th>Standard deviation of the DM-SNR curve</th>\n      <th>Excess kurtosis of the DM-SNR curve</th>\n      <th>Skewness of the DM-SNR curve</th>\n    </tr>\n  </thead>\n  <tbody>\n    <tr>\n      <th>0</th>\n      <td>121.156250</td>\n      <td>48.372971</td>\n      <td>0.375485</td>\n      <td>-0.013165</td>\n      <td>3.168896</td>\n      <td>18.399367</td>\n      <td>7.449874</td>\n      <td>65.159298</td>\n    </tr>\n    <tr>\n      <th>1</th>\n      <td>76.968750</td>\n      <td>36.175557</td>\n      <td>0.712898</td>\n      <td>3.388719</td>\n      <td>2.399666</td>\n      <td>17.570997</td>\n      <td>9.414652</td>\n      <td>102.722975</td>\n    </tr>\n    <tr>\n      <th>2</th>\n      <td>130.585938</td>\n      <td>53.229534</td>\n      <td>0.133408</td>\n      <td>-0.297242</td>\n      <td>2.743311</td>\n      <td>22.362553</td>\n      <td>8.508364</td>\n      <td>74.031324</td>\n    </tr>\n    <tr>\n      <th>4</th>\n      <td>84.804688</td>\n      <td>36.117659</td>\n      <td>0.825013</td>\n      <td>3.274125</td>\n      <td>2.790134</td>\n      <td>20.618009</td>\n      <td>8.405008</td>\n      <td>76.291128</td>\n    </tr>\n    <tr>\n      <th>7</th>\n      <td>109.406250</td>\n      <td>55.912521</td>\n      <td>0.565106</td>\n      <td>0.056247</td>\n      <td>2.797659</td>\n      <td>19.496527</td>\n      <td>9.443282</td>\n      <td>97.374578</td>\n    </tr>\n  </tbody>\n</table>\n</div>"
     },
     "metadata": {},
     "execution_count": 6
    }
   ],
   "source": [
    "x = data_frame.copy()\n",
    "x.drop(['target_class'], axis=1, inplace=True)\n",
    "y = data_frame.copy()\n",
    "y.drop([' Mean of the integrated profile',' Standard deviation of the integrated profile',' Excess kurtosis of the integrated profile',' Skewness of the integrated profile', ' Mean of the DM-SNR curve', ' Standard deviation of the DM-SNR curve', ' Excess kurtosis of the DM-SNR curve', ' Skewness of the DM-SNR curve'], axis=1, inplace=True)\n",
    "x.head()"
   ]
  },
  {
   "cell_type": "code",
   "execution_count": 14,
   "metadata": {},
   "outputs": [
    {
     "output_type": "stream",
     "name": "stdout",
     "text": [
      "Accuracy Score: 0.9791868866601963\nConfusion Matrix:\n[[8378  148]\n [  45  702]]\nf1 Score: [0.9886129 0.8791484]\n"
     ]
    }
   ],
   "source": [
    "# predict with new data\n",
    "# still around 98% accurate\n",
    "from sklearn.metrics import accuracy_score\n",
    "from sklearn.metrics import confusion_matrix\n",
    "from sklearn.metrics import f1_score\n",
    "y_predict = gridsearch1.predict(x)\n",
    "print('Accuracy Score: ' + str(accuracy_score(y_predict, y)))\n",
    "print('Confusion Matrix:\\n' + str(confusion_matrix(y_predict, y)))\n",
    "print('f1 Score: ' + str(f1_score(y_predict, y, average=None)))"
   ]
  },
  {
   "cell_type": "code",
   "execution_count": 15,
   "metadata": {},
   "outputs": [
    {
     "output_type": "stream",
     "name": "stdout",
     "text": [
      "Accuracy Score: 0.9796182465221611\nConfusion Matrix:\n[[8377  143]\n [  46  707]]\nf1 Score: [0.98884495 0.88209607]\n"
     ]
    }
   ],
   "source": [
    "# same thing but with gridsearch2 that was pickled\n",
    "y_predict = gridsearch2.predict(x)\n",
    "print('Accuracy Score: ' + str(accuracy_score(y_predict, y)))\n",
    "print('Confusion Matrix:\\n' + str(confusion_matrix(y_predict, y)))\n",
    "print('f1 Score: ' + str(f1_score(y_predict, y, average=None)))"
   ]
  },
  {
   "cell_type": "code",
   "execution_count": 16,
   "metadata": {},
   "outputs": [
    {
     "output_type": "stream",
     "name": "stdout",
     "text": [
      "Accuracy Score: 0.9083360293324706\nConfusion Matrix:\n[[8423  850]\n [   0    0]]\nf1 Score: [0.95196655 0.        ]\n"
     ]
    }
   ],
   "source": [
    "# same thing but with the worst NN model I created in gridsearch1 that was pickled\n",
    "y_predict = worst_model.predict(x)\n",
    "print('Accuracy Score: ' + str(accuracy_score(y_predict, y)))\n",
    "print('Confusion Matrix:\\n' + str(confusion_matrix(y_predict, y)))\n",
    "print('f1 Score: ' + str(f1_score(y_predict, y, average=None)))"
   ]
  },
  {
   "cell_type": "code",
   "execution_count": null,
   "metadata": {},
   "outputs": [],
   "source": []
  }
 ]
}
