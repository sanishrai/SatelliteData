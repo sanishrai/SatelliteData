{
 "metadata": {
  "language_info": {
   "codemirror_mode": {
    "name": "ipython",
    "version": 3
   },
   "file_extension": ".py",
   "mimetype": "text/x-python",
   "name": "python",
   "nbconvert_exporter": "python",
   "pygments_lexer": "ipython3",
   "version": "3.8.8"
  },
  "orig_nbformat": 2,
  "kernelspec": {
   "name": "python388jvsc74a57bd02c8ae7b7397383be484f509670a744b7a75aaa69a8c48f2fc2b876db86f77bea",
   "display_name": "Python 3.8.8 64-bit"
  },
  "metadata": {
   "interpreter": {
    "hash": "2c8ae7b7397383be484f509670a744b7a75aaa69a8c48f2fc2b876db86f77bea"
   }
  }
 },
 "nbformat": 4,
 "nbformat_minor": 2,
 "cells": [
  {
   "cell_type": "code",
   "execution_count": 33,
   "metadata": {},
   "outputs": [
    {
     "output_type": "execute_result",
     "data": {
      "text/plain": [
       "     41.2  29.689  4.2447   29.453   2.0219    1.5153   1.6696  4.7049  1\n",
       "0  53.774  54.100  2.1297   7.1286  15.2040   5.47530  0.11118  2.0363  1\n",
       "1  97.798  43.795  1.1265   5.7405   1.2806   0.16944 -0.26220  2.6014  1\n",
       "2  33.650  32.263  5.2729  34.2830   8.7300  10.08200  1.76020  5.1260  1\n",
       "3  35.146  44.320  3.8634  17.7720   9.6760   6.59750  1.04610  2.9416  1\n",
       "4  30.374  37.770  4.7040  26.7250   9.5384   8.08140  1.30420  3.5805  1"
      ],
      "text/html": "<div>\n<style scoped>\n    .dataframe tbody tr th:only-of-type {\n        vertical-align: middle;\n    }\n\n    .dataframe tbody tr th {\n        vertical-align: top;\n    }\n\n    .dataframe thead th {\n        text-align: right;\n    }\n</style>\n<table border=\"1\" class=\"dataframe\">\n  <thead>\n    <tr style=\"text-align: right;\">\n      <th></th>\n      <th>41.2</th>\n      <th>29.689</th>\n      <th>4.2447</th>\n      <th>29.453</th>\n      <th>2.0219</th>\n      <th>1.5153</th>\n      <th>1.6696</th>\n      <th>4.7049</th>\n      <th>1</th>\n    </tr>\n  </thead>\n  <tbody>\n    <tr>\n      <th>0</th>\n      <td>53.774</td>\n      <td>54.100</td>\n      <td>2.1297</td>\n      <td>7.1286</td>\n      <td>15.2040</td>\n      <td>5.47530</td>\n      <td>0.11118</td>\n      <td>2.0363</td>\n      <td>1</td>\n    </tr>\n    <tr>\n      <th>1</th>\n      <td>97.798</td>\n      <td>43.795</td>\n      <td>1.1265</td>\n      <td>5.7405</td>\n      <td>1.2806</td>\n      <td>0.16944</td>\n      <td>-0.26220</td>\n      <td>2.6014</td>\n      <td>1</td>\n    </tr>\n    <tr>\n      <th>2</th>\n      <td>33.650</td>\n      <td>32.263</td>\n      <td>5.2729</td>\n      <td>34.2830</td>\n      <td>8.7300</td>\n      <td>10.08200</td>\n      <td>1.76020</td>\n      <td>5.1260</td>\n      <td>1</td>\n    </tr>\n    <tr>\n      <th>3</th>\n      <td>35.146</td>\n      <td>44.320</td>\n      <td>3.8634</td>\n      <td>17.7720</td>\n      <td>9.6760</td>\n      <td>6.59750</td>\n      <td>1.04610</td>\n      <td>2.9416</td>\n      <td>1</td>\n    </tr>\n    <tr>\n      <th>4</th>\n      <td>30.374</td>\n      <td>37.770</td>\n      <td>4.7040</td>\n      <td>26.7250</td>\n      <td>9.5384</td>\n      <td>8.08140</td>\n      <td>1.30420</td>\n      <td>3.5805</td>\n      <td>1</td>\n    </tr>\n  </tbody>\n</table>\n</div>"
     },
     "metadata": {},
     "execution_count": 33
    }
   ],
   "source": [
    "# Using this copletely different data set \n",
    "# https://www.kaggle.com/colearninglounge/predicting-pulsar-starintermediate\n",
    "# use the neural networks trained with different dataset to predict this different dataset\n",
    "\n",
    "import pandas as pd\n",
    "data_frame = pd.read_csv('LOTAAS_1_Lyon_features.csv')\n",
    "data_frame.dropna(inplace=True)\n",
    "data_frame.head()\n",
    "#data_frame.to_csv('cleaned_up_data_2.csv', index=False)"
   ]
  },
  {
   "cell_type": "code",
   "execution_count": 34,
   "metadata": {},
   "outputs": [
    {
     "output_type": "execute_result",
     "data": {
      "text/plain": [
       "   Mean of Int. Prof.  Stand. Deviation of Int. Prof.  \\\n",
       "0              53.774                          54.100   \n",
       "1              97.798                          43.795   \n",
       "2              33.650                          32.263   \n",
       "3              35.146                          44.320   \n",
       "4              30.374                          37.770   \n",
       "\n",
       "   Excess Kurtosis of Int. Prof.  Skewness of Int. Prof.  Mean of Curve  \\\n",
       "0                         2.1297                  7.1286        15.2040   \n",
       "1                         1.1265                  5.7405         1.2806   \n",
       "2                         5.2729                 34.2830         8.7300   \n",
       "3                         3.8634                 17.7720         9.6760   \n",
       "4                         4.7040                 26.7250         9.5384   \n",
       "\n",
       "    Stand. Deviation of Curve  Excess Kurtosis of Curve  Skewness of Curve  \\\n",
       "0                     5.47530                   0.11118             2.0363   \n",
       "1                     0.16944                  -0.26220             2.6014   \n",
       "2                    10.08200                   1.76020             5.1260   \n",
       "3                     6.59750                   1.04610             2.9416   \n",
       "4                     8.08140                   1.30420             3.5805   \n",
       "\n",
       "   Class  \n",
       "0      1  \n",
       "1      1  \n",
       "2      1  \n",
       "3      1  \n",
       "4      1  "
      ],
      "text/html": "<div>\n<style scoped>\n    .dataframe tbody tr th:only-of-type {\n        vertical-align: middle;\n    }\n\n    .dataframe tbody tr th {\n        vertical-align: top;\n    }\n\n    .dataframe thead th {\n        text-align: right;\n    }\n</style>\n<table border=\"1\" class=\"dataframe\">\n  <thead>\n    <tr style=\"text-align: right;\">\n      <th></th>\n      <th>Mean of Int. Prof.</th>\n      <th>Stand. Deviation of Int. Prof.</th>\n      <th>Excess Kurtosis of Int. Prof.</th>\n      <th>Skewness of Int. Prof.</th>\n      <th>Mean of Curve</th>\n      <th>Stand. Deviation of Curve</th>\n      <th>Excess Kurtosis of Curve</th>\n      <th>Skewness of Curve</th>\n      <th>Class</th>\n    </tr>\n  </thead>\n  <tbody>\n    <tr>\n      <th>0</th>\n      <td>53.774</td>\n      <td>54.100</td>\n      <td>2.1297</td>\n      <td>7.1286</td>\n      <td>15.2040</td>\n      <td>5.47530</td>\n      <td>0.11118</td>\n      <td>2.0363</td>\n      <td>1</td>\n    </tr>\n    <tr>\n      <th>1</th>\n      <td>97.798</td>\n      <td>43.795</td>\n      <td>1.1265</td>\n      <td>5.7405</td>\n      <td>1.2806</td>\n      <td>0.16944</td>\n      <td>-0.26220</td>\n      <td>2.6014</td>\n      <td>1</td>\n    </tr>\n    <tr>\n      <th>2</th>\n      <td>33.650</td>\n      <td>32.263</td>\n      <td>5.2729</td>\n      <td>34.2830</td>\n      <td>8.7300</td>\n      <td>10.08200</td>\n      <td>1.76020</td>\n      <td>5.1260</td>\n      <td>1</td>\n    </tr>\n    <tr>\n      <th>3</th>\n      <td>35.146</td>\n      <td>44.320</td>\n      <td>3.8634</td>\n      <td>17.7720</td>\n      <td>9.6760</td>\n      <td>6.59750</td>\n      <td>1.04610</td>\n      <td>2.9416</td>\n      <td>1</td>\n    </tr>\n    <tr>\n      <th>4</th>\n      <td>30.374</td>\n      <td>37.770</td>\n      <td>4.7040</td>\n      <td>26.7250</td>\n      <td>9.5384</td>\n      <td>8.08140</td>\n      <td>1.30420</td>\n      <td>3.5805</td>\n      <td>1</td>\n    </tr>\n  </tbody>\n</table>\n</div>"
     },
     "metadata": {},
     "execution_count": 34
    }
   ],
   "source": [
    "data_frame.columns =['Mean of Int. Prof.', 'Stand. Deviation of Int. Prof.', \n",
    "                     'Excess Kurtosis of Int. Prof.', 'Skewness of Int. Prof.',\n",
    "                     'Mean of Curve', ' Stand. Deviation of Curve', 'Excess Kurtosis of Curve',\n",
    "                     'Skewness of Curve', 'Class']\n",
    "data_frame.head()"
   ]
  },
  {
   "cell_type": "code",
   "execution_count": 35,
   "metadata": {},
   "outputs": [
    {
     "output_type": "execute_result",
     "data": {
      "text/plain": [
       "     80.6875  45.5918972379  1.6127985563  3.77336723  82.6082737487  \\\n",
       "0  32.406250      42.527094      3.887236   15.145756      93.289926   \n",
       "1  63.796875      39.573973      2.488179    9.604414      63.482345   \n",
       "2  44.390625      48.187335      2.753744    7.143531      81.582268   \n",
       "3  39.390625      38.154135      4.209383   19.437804      72.168797   \n",
       "4  79.187500      36.866683      1.902392    7.387106      81.858512   \n",
       "\n",
       "   40.7533243053  1.0298245663  1.670703855  1  \n",
       "0      53.893230      0.559385    -0.059583  1  \n",
       "1      31.549491      1.576466     4.072761  1  \n",
       "2      57.610700      0.508915    -0.437081  1  \n",
       "3      42.518177      1.009401     0.854311  1  \n",
       "4      46.586141      0.720185    -0.045667  1  "
      ],
      "text/html": "<div>\n<style scoped>\n    .dataframe tbody tr th:only-of-type {\n        vertical-align: middle;\n    }\n\n    .dataframe tbody tr th {\n        vertical-align: top;\n    }\n\n    .dataframe thead th {\n        text-align: right;\n    }\n</style>\n<table border=\"1\" class=\"dataframe\">\n  <thead>\n    <tr style=\"text-align: right;\">\n      <th></th>\n      <th>80.6875</th>\n      <th>45.5918972379</th>\n      <th>1.6127985563</th>\n      <th>3.77336723</th>\n      <th>82.6082737487</th>\n      <th>40.7533243053</th>\n      <th>1.0298245663</th>\n      <th>1.670703855</th>\n      <th>1</th>\n    </tr>\n  </thead>\n  <tbody>\n    <tr>\n      <th>0</th>\n      <td>32.406250</td>\n      <td>42.527094</td>\n      <td>3.887236</td>\n      <td>15.145756</td>\n      <td>93.289926</td>\n      <td>53.893230</td>\n      <td>0.559385</td>\n      <td>-0.059583</td>\n      <td>1</td>\n    </tr>\n    <tr>\n      <th>1</th>\n      <td>63.796875</td>\n      <td>39.573973</td>\n      <td>2.488179</td>\n      <td>9.604414</td>\n      <td>63.482345</td>\n      <td>31.549491</td>\n      <td>1.576466</td>\n      <td>4.072761</td>\n      <td>1</td>\n    </tr>\n    <tr>\n      <th>2</th>\n      <td>44.390625</td>\n      <td>48.187335</td>\n      <td>2.753744</td>\n      <td>7.143531</td>\n      <td>81.582268</td>\n      <td>57.610700</td>\n      <td>0.508915</td>\n      <td>-0.437081</td>\n      <td>1</td>\n    </tr>\n    <tr>\n      <th>3</th>\n      <td>39.390625</td>\n      <td>38.154135</td>\n      <td>4.209383</td>\n      <td>19.437804</td>\n      <td>72.168797</td>\n      <td>42.518177</td>\n      <td>1.009401</td>\n      <td>0.854311</td>\n      <td>1</td>\n    </tr>\n    <tr>\n      <th>4</th>\n      <td>79.187500</td>\n      <td>36.866683</td>\n      <td>1.902392</td>\n      <td>7.387106</td>\n      <td>81.858512</td>\n      <td>46.586141</td>\n      <td>0.720185</td>\n      <td>-0.045667</td>\n      <td>1</td>\n    </tr>\n  </tbody>\n</table>\n</div>"
     },
     "metadata": {},
     "execution_count": 35
    }
   ],
   "source": [
    "data_frame2 = pd.read_csv('HTRU_1_Lyon_Features.csv')\n",
    "data_frame2.dropna(inplace=True)\n",
    "data_frame2.head()"
   ]
  },
  {
   "cell_type": "code",
   "execution_count": 36,
   "metadata": {},
   "outputs": [
    {
     "output_type": "execute_result",
     "data": {
      "text/plain": [
       "   Mean of Int. Prof.  Stand. Deviation of Int. Prof.  \\\n",
       "0           32.406250                       42.527094   \n",
       "1           63.796875                       39.573973   \n",
       "2           44.390625                       48.187335   \n",
       "3           39.390625                       38.154135   \n",
       "4           79.187500                       36.866683   \n",
       "\n",
       "   Excess Kurtosis of Int. Prof.  Skewness of Int. Prof.  Mean of Curve  \\\n",
       "0                       3.887236               15.145756      93.289926   \n",
       "1                       2.488179                9.604414      63.482345   \n",
       "2                       2.753744                7.143531      81.582268   \n",
       "3                       4.209383               19.437804      72.168797   \n",
       "4                       1.902392                7.387106      81.858512   \n",
       "\n",
       "    Stand. Deviation of Curve  Excess Kurtosis of Curve  Skewness of Curve  \\\n",
       "0                   53.893230                  0.559385          -0.059583   \n",
       "1                   31.549491                  1.576466           4.072761   \n",
       "2                   57.610700                  0.508915          -0.437081   \n",
       "3                   42.518177                  1.009401           0.854311   \n",
       "4                   46.586141                  0.720185          -0.045667   \n",
       "\n",
       "   Class  \n",
       "0      1  \n",
       "1      1  \n",
       "2      1  \n",
       "3      1  \n",
       "4      1  "
      ],
      "text/html": "<div>\n<style scoped>\n    .dataframe tbody tr th:only-of-type {\n        vertical-align: middle;\n    }\n\n    .dataframe tbody tr th {\n        vertical-align: top;\n    }\n\n    .dataframe thead th {\n        text-align: right;\n    }\n</style>\n<table border=\"1\" class=\"dataframe\">\n  <thead>\n    <tr style=\"text-align: right;\">\n      <th></th>\n      <th>Mean of Int. Prof.</th>\n      <th>Stand. Deviation of Int. Prof.</th>\n      <th>Excess Kurtosis of Int. Prof.</th>\n      <th>Skewness of Int. Prof.</th>\n      <th>Mean of Curve</th>\n      <th>Stand. Deviation of Curve</th>\n      <th>Excess Kurtosis of Curve</th>\n      <th>Skewness of Curve</th>\n      <th>Class</th>\n    </tr>\n  </thead>\n  <tbody>\n    <tr>\n      <th>0</th>\n      <td>32.406250</td>\n      <td>42.527094</td>\n      <td>3.887236</td>\n      <td>15.145756</td>\n      <td>93.289926</td>\n      <td>53.893230</td>\n      <td>0.559385</td>\n      <td>-0.059583</td>\n      <td>1</td>\n    </tr>\n    <tr>\n      <th>1</th>\n      <td>63.796875</td>\n      <td>39.573973</td>\n      <td>2.488179</td>\n      <td>9.604414</td>\n      <td>63.482345</td>\n      <td>31.549491</td>\n      <td>1.576466</td>\n      <td>4.072761</td>\n      <td>1</td>\n    </tr>\n    <tr>\n      <th>2</th>\n      <td>44.390625</td>\n      <td>48.187335</td>\n      <td>2.753744</td>\n      <td>7.143531</td>\n      <td>81.582268</td>\n      <td>57.610700</td>\n      <td>0.508915</td>\n      <td>-0.437081</td>\n      <td>1</td>\n    </tr>\n    <tr>\n      <th>3</th>\n      <td>39.390625</td>\n      <td>38.154135</td>\n      <td>4.209383</td>\n      <td>19.437804</td>\n      <td>72.168797</td>\n      <td>42.518177</td>\n      <td>1.009401</td>\n      <td>0.854311</td>\n      <td>1</td>\n    </tr>\n    <tr>\n      <th>4</th>\n      <td>79.187500</td>\n      <td>36.866683</td>\n      <td>1.902392</td>\n      <td>7.387106</td>\n      <td>81.858512</td>\n      <td>46.586141</td>\n      <td>0.720185</td>\n      <td>-0.045667</td>\n      <td>1</td>\n    </tr>\n  </tbody>\n</table>\n</div>"
     },
     "metadata": {},
     "execution_count": 36
    }
   ],
   "source": [
    "data_frame2.columns =['Mean of Int. Prof.', 'Stand. Deviation of Int. Prof.', \n",
    "                     'Excess Kurtosis of Int. Prof.', 'Skewness of Int. Prof.',\n",
    "                     'Mean of Curve', ' Stand. Deviation of Curve', 'Excess Kurtosis of Curve',\n",
    "                     'Skewness of Curve', 'Class']\n",
    "data_frame2.head()"
   ]
  },
  {
   "cell_type": "code",
   "execution_count": 37,
   "metadata": {},
   "outputs": [],
   "source": [
    "# get the pickled datasets \n",
    "import pickle\n",
    "with open('gridsearch1.pkl', 'rb') as f1:\n",
    "    gridsearch1 = pickle.load(f1)\n",
    "with open('gridsearch2.pkl', 'rb') as f2:\n",
    "    gridsearch2 = pickle.load(f2)\n",
    "with open('worst_model.pkl', 'rb') as f3:\n",
    "    worst_model = pickle.load(f3)"
   ]
  },
  {
   "cell_type": "code",
   "execution_count": 38,
   "metadata": {},
   "outputs": [
    {
     "output_type": "execute_result",
     "data": {
      "text/plain": [
       "   Mean of Int. Prof.  Stand. Deviation of Int. Prof.  \\\n",
       "0              53.774                          54.100   \n",
       "1              97.798                          43.795   \n",
       "2              33.650                          32.263   \n",
       "3              35.146                          44.320   \n",
       "4              30.374                          37.770   \n",
       "\n",
       "   Excess Kurtosis of Int. Prof.  Skewness of Int. Prof.  Mean of Curve  \\\n",
       "0                         2.1297                  7.1286        15.2040   \n",
       "1                         1.1265                  5.7405         1.2806   \n",
       "2                         5.2729                 34.2830         8.7300   \n",
       "3                         3.8634                 17.7720         9.6760   \n",
       "4                         4.7040                 26.7250         9.5384   \n",
       "\n",
       "    Stand. Deviation of Curve  Excess Kurtosis of Curve  Skewness of Curve  \n",
       "0                     5.47530                   0.11118             2.0363  \n",
       "1                     0.16944                  -0.26220             2.6014  \n",
       "2                    10.08200                   1.76020             5.1260  \n",
       "3                     6.59750                   1.04610             2.9416  \n",
       "4                     8.08140                   1.30420             3.5805  "
      ],
      "text/html": "<div>\n<style scoped>\n    .dataframe tbody tr th:only-of-type {\n        vertical-align: middle;\n    }\n\n    .dataframe tbody tr th {\n        vertical-align: top;\n    }\n\n    .dataframe thead th {\n        text-align: right;\n    }\n</style>\n<table border=\"1\" class=\"dataframe\">\n  <thead>\n    <tr style=\"text-align: right;\">\n      <th></th>\n      <th>Mean of Int. Prof.</th>\n      <th>Stand. Deviation of Int. Prof.</th>\n      <th>Excess Kurtosis of Int. Prof.</th>\n      <th>Skewness of Int. Prof.</th>\n      <th>Mean of Curve</th>\n      <th>Stand. Deviation of Curve</th>\n      <th>Excess Kurtosis of Curve</th>\n      <th>Skewness of Curve</th>\n    </tr>\n  </thead>\n  <tbody>\n    <tr>\n      <th>0</th>\n      <td>53.774</td>\n      <td>54.100</td>\n      <td>2.1297</td>\n      <td>7.1286</td>\n      <td>15.2040</td>\n      <td>5.47530</td>\n      <td>0.11118</td>\n      <td>2.0363</td>\n    </tr>\n    <tr>\n      <th>1</th>\n      <td>97.798</td>\n      <td>43.795</td>\n      <td>1.1265</td>\n      <td>5.7405</td>\n      <td>1.2806</td>\n      <td>0.16944</td>\n      <td>-0.26220</td>\n      <td>2.6014</td>\n    </tr>\n    <tr>\n      <th>2</th>\n      <td>33.650</td>\n      <td>32.263</td>\n      <td>5.2729</td>\n      <td>34.2830</td>\n      <td>8.7300</td>\n      <td>10.08200</td>\n      <td>1.76020</td>\n      <td>5.1260</td>\n    </tr>\n    <tr>\n      <th>3</th>\n      <td>35.146</td>\n      <td>44.320</td>\n      <td>3.8634</td>\n      <td>17.7720</td>\n      <td>9.6760</td>\n      <td>6.59750</td>\n      <td>1.04610</td>\n      <td>2.9416</td>\n    </tr>\n    <tr>\n      <th>4</th>\n      <td>30.374</td>\n      <td>37.770</td>\n      <td>4.7040</td>\n      <td>26.7250</td>\n      <td>9.5384</td>\n      <td>8.08140</td>\n      <td>1.30420</td>\n      <td>3.5805</td>\n    </tr>\n  </tbody>\n</table>\n</div>"
     },
     "metadata": {},
     "execution_count": 38
    }
   ],
   "source": [
    "x = data_frame.drop(['Class'], axis=1, inplace=False)\n",
    "x2 = data_frame2.drop(['Class'], axis=1, inplace=False)\n",
    "y = data_frame['Class']\n",
    "y2 = data_frame2['Class']\n",
    "x.head()"
   ]
  },
  {
   "cell_type": "code",
   "execution_count": 39,
   "metadata": {},
   "outputs": [
    {
     "output_type": "execute_result",
     "data": {
      "text/plain": [
       "0    1\n",
       "1    1\n",
       "2    1\n",
       "3    1\n",
       "4    1\n",
       "Name: Class, dtype: int64"
      ]
     },
     "metadata": {},
     "execution_count": 39
    }
   ],
   "source": [
    "y.head()"
   ]
  },
  {
   "cell_type": "code",
   "execution_count": 40,
   "metadata": {},
   "outputs": [
    {
     "output_type": "execute_result",
     "data": {
      "text/plain": [
       "   Mean of Int. Prof.  Stand. Deviation of Int. Prof.  \\\n",
       "0           32.406250                       42.527094   \n",
       "1           63.796875                       39.573973   \n",
       "2           44.390625                       48.187335   \n",
       "3           39.390625                       38.154135   \n",
       "4           79.187500                       36.866683   \n",
       "\n",
       "   Excess Kurtosis of Int. Prof.  Skewness of Int. Prof.  Mean of Curve  \\\n",
       "0                       3.887236               15.145756      93.289926   \n",
       "1                       2.488179                9.604414      63.482345   \n",
       "2                       2.753744                7.143531      81.582268   \n",
       "3                       4.209383               19.437804      72.168797   \n",
       "4                       1.902392                7.387106      81.858512   \n",
       "\n",
       "    Stand. Deviation of Curve  Excess Kurtosis of Curve  Skewness of Curve  \n",
       "0                   53.893230                  0.559385          -0.059583  \n",
       "1                   31.549491                  1.576466           4.072761  \n",
       "2                   57.610700                  0.508915          -0.437081  \n",
       "3                   42.518177                  1.009401           0.854311  \n",
       "4                   46.586141                  0.720185          -0.045667  "
      ],
      "text/html": "<div>\n<style scoped>\n    .dataframe tbody tr th:only-of-type {\n        vertical-align: middle;\n    }\n\n    .dataframe tbody tr th {\n        vertical-align: top;\n    }\n\n    .dataframe thead th {\n        text-align: right;\n    }\n</style>\n<table border=\"1\" class=\"dataframe\">\n  <thead>\n    <tr style=\"text-align: right;\">\n      <th></th>\n      <th>Mean of Int. Prof.</th>\n      <th>Stand. Deviation of Int. Prof.</th>\n      <th>Excess Kurtosis of Int. Prof.</th>\n      <th>Skewness of Int. Prof.</th>\n      <th>Mean of Curve</th>\n      <th>Stand. Deviation of Curve</th>\n      <th>Excess Kurtosis of Curve</th>\n      <th>Skewness of Curve</th>\n    </tr>\n  </thead>\n  <tbody>\n    <tr>\n      <th>0</th>\n      <td>32.406250</td>\n      <td>42.527094</td>\n      <td>3.887236</td>\n      <td>15.145756</td>\n      <td>93.289926</td>\n      <td>53.893230</td>\n      <td>0.559385</td>\n      <td>-0.059583</td>\n    </tr>\n    <tr>\n      <th>1</th>\n      <td>63.796875</td>\n      <td>39.573973</td>\n      <td>2.488179</td>\n      <td>9.604414</td>\n      <td>63.482345</td>\n      <td>31.549491</td>\n      <td>1.576466</td>\n      <td>4.072761</td>\n    </tr>\n    <tr>\n      <th>2</th>\n      <td>44.390625</td>\n      <td>48.187335</td>\n      <td>2.753744</td>\n      <td>7.143531</td>\n      <td>81.582268</td>\n      <td>57.610700</td>\n      <td>0.508915</td>\n      <td>-0.437081</td>\n    </tr>\n    <tr>\n      <th>3</th>\n      <td>39.390625</td>\n      <td>38.154135</td>\n      <td>4.209383</td>\n      <td>19.437804</td>\n      <td>72.168797</td>\n      <td>42.518177</td>\n      <td>1.009401</td>\n      <td>0.854311</td>\n    </tr>\n    <tr>\n      <th>4</th>\n      <td>79.187500</td>\n      <td>36.866683</td>\n      <td>1.902392</td>\n      <td>7.387106</td>\n      <td>81.858512</td>\n      <td>46.586141</td>\n      <td>0.720185</td>\n      <td>-0.045667</td>\n    </tr>\n  </tbody>\n</table>\n</div>"
     },
     "metadata": {},
     "execution_count": 40
    }
   ],
   "source": [
    "x2.head()"
   ]
  },
  {
   "cell_type": "code",
   "execution_count": 41,
   "metadata": {},
   "outputs": [
    {
     "output_type": "execute_result",
     "data": {
      "text/plain": [
       "0    1\n",
       "1    1\n",
       "2    1\n",
       "3    1\n",
       "4    1\n",
       "Name: Class, dtype: int64"
      ]
     },
     "metadata": {},
     "execution_count": 41
    }
   ],
   "source": [
    "y2.head()"
   ]
  },
  {
   "cell_type": "code",
   "execution_count": 42,
   "metadata": {},
   "outputs": [
    {
     "output_type": "stream",
     "name": "stdout",
     "text": [
      "FROM DATASET 1 (LOTAAS):\nAccuracy Score: 0.9962391132224862\nConfusion Matrix:\n[[4986   18]\n [   1   47]]\nf1 Score: [0.99809829 0.83185841]\n\nFROM DATASET2 (HTRU1)\nAccuracy Score: 0.9950872344858593\nConfusion Matrix:\n[[89687   139]\n [  309  1056]]\nf1 Score: [0.99750865 0.825     ]\n"
     ]
    }
   ],
   "source": [
    "# predict with new data\n",
    "# still around 98% accurate\n",
    "from sklearn.metrics import accuracy_score\n",
    "from sklearn.metrics import confusion_matrix\n",
    "from sklearn.metrics import f1_score\n",
    "\n",
    "print(\"FROM DATASET 1 (LOTAAS):\")\n",
    "y_predict = gridsearch1.predict(x)\n",
    "print('Accuracy Score: ' + str(accuracy_score(y_predict, y)))\n",
    "print('Confusion Matrix:\\n' + str(confusion_matrix(y_predict, y)))\n",
    "print('f1 Score: ' + str(f1_score(y_predict, y, average=None)))\n",
    "\n",
    "print(\"\\nFROM DATASET2 (HTRU1)\")\n",
    "y_predict2 = gridsearch1.predict(x2)\n",
    "print('Accuracy Score: ' + str(accuracy_score(y_predict2, y2)))\n",
    "print('Confusion Matrix:\\n' + str(confusion_matrix(y_predict2, y2)))\n",
    "print('f1 Score: ' + str(f1_score(y_predict2, y2, average=None)))"
   ]
  },
  {
   "cell_type": "code",
   "execution_count": 43,
   "metadata": {},
   "outputs": [
    {
     "output_type": "stream",
     "name": "stdout",
     "text": [
      "FROM DATASET 1 (LOTAAS):\n",
      "Accuracy Score: 0.9954473475851148\n",
      "Confusion Matrix:\n",
      "[[4986   22]\n",
      " [   1   43]]\n",
      "f1 Score: [0.99769885 0.78899083]\n",
      "\n",
      "FROM DATASET2 (HTRU1)\n",
      "Accuracy Score: 0.9949556425524448\n",
      "Confusion Matrix:\n",
      "[[89669   133]\n",
      " [  327  1062]]\n",
      "f1 Score: [0.99744157 0.82198142]\n"
     ]
    }
   ],
   "source": [
    "# same thing but with gridsearch2 that was pickled\n",
    "print(\"FROM DATASET 1 (LOTAAS):\")\n",
    "y_predict = gridsearch2.predict(x)\n",
    "print('Accuracy Score: ' + str(accuracy_score(y_predict, y)))\n",
    "print('Confusion Matrix:\\n' + str(confusion_matrix(y_predict, y)))\n",
    "print('f1 Score: ' + str(f1_score(y_predict, y, average=None)))\n",
    "\n",
    "print(\"\\nFROM DATASET2 (HTRU1)\")\n",
    "y_predict2 = gridsearch2.predict(x2)\n",
    "print('Accuracy Score: ' + str(accuracy_score(y_predict2, y2)))\n",
    "print('Confusion Matrix:\\n' + str(confusion_matrix(y_predict2, y2)))\n",
    "print('f1 Score: ' + str(f1_score(y_predict2, y2, average=None)))"
   ]
  },
  {
   "cell_type": "code",
   "execution_count": 44,
   "metadata": {},
   "outputs": [
    {
     "output_type": "stream",
     "name": "stdout",
     "text": [
      "FROM DATASET 1 (LOTAAS):\n",
      "Accuracy Score: 0.9871338083927158\n",
      "Confusion Matrix:\n",
      "[[4987   65]\n",
      " [   0    0]]\n",
      "f1 Score: [0.99352525 0.        ]\n",
      "\n",
      "FROM DATASET2 (HTRU1)\n",
      "Accuracy Score: 0.9868956366308078\n",
      "Confusion Matrix:\n",
      "[[89996  1195]\n",
      " [    0     0]]\n",
      "f1 Score: [0.9934046 0.       ]\n"
     ]
    }
   ],
   "source": [
    "# same thing but with the worst NN model I created in gridsearch1 that was pickled\n",
    "\n",
    "print(\"FROM DATASET 1 (LOTAAS):\")\n",
    "y_predict = worst_model.predict(x)\n",
    "print('Accuracy Score: ' + str(accuracy_score(y_predict, y)))\n",
    "print('Confusion Matrix:\\n' + str(confusion_matrix(y_predict, y)))\n",
    "print('f1 Score: ' + str(f1_score(y_predict, y, average=None)))\n",
    "\n",
    "print(\"\\nFROM DATASET2 (HTRU1)\")\n",
    "y_predict2 = worst_model.predict(x2)\n",
    "print('Accuracy Score: ' + str(accuracy_score(y_predict2, y2)))\n",
    "print('Confusion Matrix:\\n' + str(confusion_matrix(y_predict2, y2)))\n",
    "print('f1 Score: ' + str(f1_score(y_predict2, y2, average=None)))"
   ]
  },
  {
   "cell_type": "code",
   "execution_count": null,
   "metadata": {},
   "outputs": [],
   "source": []
  }
 ]
}